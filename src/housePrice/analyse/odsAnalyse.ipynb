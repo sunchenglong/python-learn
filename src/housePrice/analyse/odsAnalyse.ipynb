{
 "cells": [
  {
   "cell_type": "code",
   "execution_count": 1,
   "metadata": {
    "collapsed": false,
    "deletable": true,
    "editable": true
   },
   "outputs": [
    {
     "name": "stdout",
     "output_type": "stream",
     "text": [
      "(('http://bj.lianjia.com/chengjiao/p1a1l1sf1lc1f1pg1',),)\n"
     ]
    }
   ],
   "source": [
    "import MySQLdb\n",
    "db = MySQLdb.connect(\"localhost\", \"root\", \"root\", \"house\")\n",
    "db.set_character_set('utf8')\n",
    "cursor = db.cursor()\n",
    "sql = \"select link from link_list where status = 1 limit 1\"\n",
    "cursor.execute(sql)\n",
    "results = cursor.fetchall()\n",
    "print results"
   ]
  },
  {
   "cell_type": "markdown",
   "metadata": {
    "collapsed": false,
    "deletable": true,
    "editable": true
   },
   "source": [
    "昌平与西城是否满5的分布"
   ]
  },
  {
   "cell_type": "code",
   "execution_count": 3,
   "metadata": {
    "collapsed": false,
    "deletable": true,
    "editable": true
   },
   "outputs": [
    {
     "name": "stdout",
     "output_type": "stream",
     "text": [
      "地区\t类型\t数量\n",
      "昌平\t不满五\t2531\n",
      "昌平\t满五\t2271\n",
      "西城\t不满五\t2337\n",
      "西城\t满五\t4243\n"
     ]
    }
   ],
   "source": [
    "SQL = \"select region, five, count(*)  \\\n",
    "      from ods_house_da where region = 'BJXC' or region ='BJCP' group by region, five\"\n",
    "cursor.execute(SQL)\n",
    "results = cursor.fetchall()\n",
    "print \"地区\\t类型\\t数量\"\n",
    "for i in results:\n",
    "    if i[0] == 'BJCP':\n",
    "        print '昌平\\t',\n",
    "    else:\n",
    "        print '西城\\t',\n",
    "    if i[1] == 0:\n",
    "        print '不满五\\t',\n",
    "    else:\n",
    "        print '满五\\t',\n",
    "    print i[2]"
   ]
  },
  {
   "cell_type": "code",
   "execution_count": 4,
   "metadata": {
    "collapsed": false,
    "deletable": true,
    "editable": true
   },
   "outputs": [
    {
     "ename": "SyntaxError",
     "evalue": "invalid syntax (<ipython-input-4-e709e0b37dde>, line 1)",
     "traceback": [
      "\u001b[0;36m  File \u001b[0;32m\"<ipython-input-4-e709e0b37dde>\"\u001b[0;36m, line \u001b[0;32m1\u001b[0m\n\u001b[0;31m    西城与昌平的均价差别\u001b[0m\n\u001b[0m    ^\u001b[0m\n\u001b[0;31mSyntaxError\u001b[0m\u001b[0;31m:\u001b[0m invalid syntax\n"
     ],
     "output_type": "error"
    }
   ],
   "source": [
    "西城与昌平的均价差别"
   ]
  },
  {
   "cell_type": "code",
   "execution_count": 5,
   "metadata": {
    "collapsed": false,
    "deletable": true,
    "editable": true
   },
   "outputs": [
    {
     "name": "stderr",
     "output_type": "stream",
     "text": [
      "/Library/Frameworks/Python.framework/Versions/2.7/lib/python2.7/site-packages/matplotlib/cbook.py:136: MatplotlibDeprecationWarning: The set_color_cycle attribute was deprecated in version 1.5. Use set_prop_cycle instead.\n",
      "  warnings.warn(message, mplDeprecation, stacklevel=1)\n"
     ]
    },
    {
     "data": {
      "image/png": "[encoded data removed]",
      "text/plain": [
       "<matplotlib.figure.Figure at 0x10492ba50>"
      ]
     },
     "metadata": {},
     "output_type": "display_data"
    }
   ],
   "source": [
    "%matplotlib inline\n",
    "import matplotlib.pyplot as plt\n",
    "import pandas as pd\n",
    "import ipykernel\n",
    "import jupyter_client\n",
    "\n",
    "SQL = \"select replace(dealDate,'.',''), region, avg(totalPrice), avg(totalPrice/square) from ods_house_da where region = 'BJXC' or region = 'BJCP' group by dealDate, region;\"\n",
    "cursor.execute(SQL);\n",
    "rows = cursor.fetchall()\n",
    "df = pd.DataFrame( [[ij for ij in i] for i in rows] )\n",
    "df.rename(columns={0: 'date', 1: 'region', 2: 'price', 3: 'pricePerA'}, inplace=True)\n",
    "#df.plot()\n",
    "groups = df.groupby('region')\n",
    "\n",
    "# Plot\n",
    "plt.rcParams.update(pd.tools.plotting.mpl_stylesheet)\n",
    "colors = pd.tools.plotting._get_standard_colors(len(groups), color_type='random')\n",
    "\n",
    "fig, ax = plt.subplots()\n",
    "ax.set_color_cycle(colors)\n",
    "ax.margins(0.05)\n",
    "for name, group in groups:\n",
    "    ax.plot(group.date, group.price, marker='.', linestyle='', ms=12, label=name)\n",
    "ax.legend(numpoints=1, loc='upper left')\n",
    "\n",
    "plt.show()"
   ]
  },
  {
   "cell_type": "code",
   "execution_count": 6,
   "metadata": {
    "collapsed": false,
    "deletable": true,
    "editable": true
   },
   "outputs": [
    {
     "name": "stdout",
     "output_type": "stream",
     "text": [
      "地区\t类型\t格局\t均总价\t均单价\n",
      "昌平\t不满五\t1室0厅\t129.94\t2.97\n",
      "昌平\t满五\t1室0厅\t154.95\t3.61\n",
      "昌平\t不满五\t1室1厅\t155.68\t2.77\n",
      "昌平\t满五\t1室1厅\t172.35\t3.01\n",
      "昌平\t不满五\t1室2厅\t159.0\t2.71\n",
      "昌平\t满五\t1室2厅\t190.29\t3.05\n",
      "昌平\t不满五\t2室0厅\t134.91\t2.69\n",
      "昌平\t满五\t2室0厅\t135.14\t2.52\n",
      "昌平\t不满五\t2室1厅\t175.4\t2.88\n",
      "昌平\t满五\t2室1厅\t168.43\t2.73\n",
      "昌平\t不满五\t2室2厅\t180.2\t3.52\n",
      "昌平\t满五\t2室2厅\t189.86\t2.82\n",
      "昌平\t不满五\t3室0厅\t84.5\t1.5\n",
      "昌平\t满五\t3室0厅\t134.5\t2.5\n",
      "昌平\t不满五\t3室1厅\t206.09\t3.49\n",
      "昌平\t满五\t3室1厅\t167.56\t2.55\n",
      "昌平\t不满五\t3室2厅\t117.33\t1.95\n",
      "昌平\t满五\t3室2厅\t83.5\t1.56\n",
      "西城\t不满五\t1室0厅\t173.61\t5.25\n",
      "西城\t满五\t1室0厅\t201.98\t5.61\n",
      "西城\t不满五\t1室1厅\t214.96\t5.28\n",
      "西城\t满五\t1室1厅\t255.37\t6.16\n",
      "西城\t不满五\t1室2厅\t156.8\t2.89\n",
      "西城\t满五\t1室2厅\t186.88\t3.59\n",
      "西城\t不满五\t2室0厅\t236.25\t5.92\n",
      "西城\t满五\t2室0厅\t285.6\t6.32\n",
      "西城\t不满五\t2室1厅\t215.75\t4.44\n",
      "西城\t满五\t2室1厅\t249.74\t5.1\n",
      "西城\t不满五\t2室2厅\t193.0\t4.86\n",
      "西城\t满五\t2室2厅\t266.0\t5.31\n",
      "西城\t不满五\t3室0厅\t189.0\t3.25\n",
      "西城\t满五\t3室0厅\t262.5\t4.76\n",
      "西城\t不满五\t3室1厅\t178.64\t3.22\n",
      "西城\t满五\t3室1厅\t190.15\t3.49\n"
     ]
    }
   ],
   "source": [
    "SQL = \"select region, five, struct, avg(totalPrice), avg(totalPrice/square)  \\\n",
    "      from ods_house_da where region = 'BJXC' or region ='BJCP' group by region,struct, five\"\n",
    "cursor.execute(SQL)\n",
    "results = cursor.fetchall()\n",
    "print \"地区\\t类型\\t格局\\t均总价\\t均单价\"\n",
    "for i in results:\n",
    "    if i[0] == 'BJCP':\n",
    "        print '昌平\\t',\n",
    "    else:\n",
    "        print '西城\\t',\n",
    "    if i[1] == 0:\n",
    "        print '不满五\\t',\n",
    "    else:\n",
    "        print '满五\\t',\n",
    "    print i[2] + '\\t' + str(round(i[3],2)) + '\\t' + str(round(i[4],2))"
   ]
  },
  {
   "cell_type": "code",
   "execution_count": 7,
   "metadata": {
    "collapsed": false,
    "deletable": true,
    "editable": true
   },
   "outputs": [
    {
     "data": {
      "image/png": "[encoded data removed]",
      "text/plain": [
       "<matplotlib.figure.Figure at 0x10423fb10>"
      ]
     },
     "metadata": {},
     "output_type": "display_data"
    }
   ],
   "source": [
    "from pylab import *\n",
    "\n",
    "n = 1024\n",
    "X = np.random.normal(0,1,n)\n",
    "Y = np.random.normal(0,1,n)\n",
    "Z = np.random.normal(0,2,n)\n",
    "scatter(X,Y)\n",
    "scatter(X,Z)\n",
    "show()"
   ]
  },
  {
   "cell_type": "code",
   "execution_count": 8,
   "metadata": {
    "collapsed": false,
    "deletable": true,
    "editable": true
   },
   "outputs": [
    {
     "name": "stderr",
     "output_type": "stream",
     "text": [
      "/Library/Frameworks/Python.framework/Versions/2.7/lib/python2.7/site-packages/matplotlib/axes/_axes.py:545: UserWarning: No labelled objects found. Use label='...' kwarg on individual plots.\n",
      "  warnings.warn(\"No labelled objects found. \"\n"
     ]
    },
    {
     "data": {
      "image/png": "[encoded data removed]",
      "text/plain": [
       "<matplotlib.figure.Figure at 0x107369b50>"
      ]
     },
     "metadata": {},
     "output_type": "display_data"
    }
   ],
   "source": [
    "%matplotlib inline\n",
    "import matplotlib.pyplot as plt\n",
    "import pandas as pd\n",
    "import ipykernel\n",
    "import jupyter_client\n",
    "\n",
    "SQL = \"select replace(dealDate,'.',''), region, avg(totalPrice), avg(totalPrice/square) from ods_house_da where region = 'BJXC' or region = 'BJCP' group by dealDate, region;\"\n",
    "cursor.execute(SQL);\n",
    "rows = cursor.fetchall()\n",
    "df = pd.DataFrame( [[ij for ij in i] for i in rows] )\n",
    "df.rename(columns={0: 'date', 1: 'region', 2: 'price', 3: 'pricePerA'}, inplace=True)\n",
    "#df.plot()\n",
    "groups = df.groupby('region')\n",
    "\n",
    "# Plot\n",
    "plt.rcParams.update(pd.tools.plotting.mpl_stylesheet)\n",
    "colors = pd.tools.plotting._get_standard_colors(len(groups), color_type='random')\n",
    "\n",
    "fig, ax = plt.subplots()\n",
    "ax.set_color_cycle(colors)\n",
    "ax.margins(0.05)\n",
    "for name, group in groups:\n",
    "    pass\n",
    "    #ax.scatter(group.date, group.price, label=name)\n",
    "ax.legend(numpoints=1, loc='upper left')\n",
    "\n",
    "plt.show()"
   ]
  },
  {
   "cell_type": "code",
   "execution_count": null,
   "metadata": {
    "collapsed": true,
    "deletable": true,
    "editable": true
   },
   "outputs": [],
   "source": [
    ""
   ]
  }
 ],
 "metadata": {
  "celltoolbar": "Edit Metadata",
  "kernelspec": {
   "display_name": "Python 2",
   "language": "python",
   "name": "python2"
  },
  "language_info": {
   "codemirror_mode": {
    "name": "ipython",
    "version": 2.0
   },
   "file_extension": ".py",
   "mimetype": "text/x-python",
   "name": "python",
   "nbconvert_exporter": "python",
   "pygments_lexer": "ipython2",
   "version": "2.7.12"
  }
 },
 "nbformat": 4,
 "nbformat_minor": 0
}