{
 "cells": [
  {
   "cell_type": "code",
   "execution_count": 2,
   "metadata": {
    "collapsed": true
   },
   "outputs": [
    {
     "name": "stdout",
     "output_type": "stream",
     "text": [
      "(('http://bj.lianjia.com/chengjiao/p1a1l1sf1lc1f1pg1',),)\n"
     ]
    }
   ],
   "source": [
    "import MySQLdb\n",
    "db = MySQLdb.connect(\"localhost\", \"root\", \"root\", \"house\")\n",
    "db.set_character_set('utf8')\n",
    "cursor = db.cursor()\n",
    "sql = \"select link from link_list where status = 1 limit 1\"\n",
    "cursor.execute(sql)\n",
    "results = cursor.fetchall()\n",
    "print results"
   ]
  },
  {
   "cell_type": "code",
   "execution_count": null,
   "metadata": {},
   "outputs": [],
   "source": [
    "昌平与西城是否满5的分布"
   ]
  },
  {
   "cell_type": "code",
   "execution_count": 37,
   "metadata": {
    "collapsed": false
   },
   "outputs": [
    {
     "name": "stdout",
     "output_type": "stream",
     "text": [
      "地区\t类型\t数量\n昌平\t不满五\t2531\n昌平\t满五\t2271\n西城\t不满五\t2337\n西城\t满五\t4243\n"
     ]
    }
   ],
   "source": [
    "SQL = \"select region, five, count(*)  \\\n",
    "      from ods_house_da where region = 'BJXC' or region ='BJCP' group by region, five\"\n",
    "cursor.execute(SQL)\n",
    "results = cursor.fetchall()\n",
    "print \"地区\\t类型\\t数量\"\n",
    "for i in results:\n",
    "    if i[0] == 'BJCP':\n",
    "        print '昌平\\t',\n",
    "    else:\n",
    "        print '西城\\t',\n",
    "    if i[1] == 0:\n",
    "        print '不满五\\t',\n",
    "    else:\n",
    "        print '满五\\t',\n",
    "    print i[2]"
   ]
  },
  {
   "cell_type": "code",
   "execution_count": null,
   "metadata": {},
   "outputs": [],
   "source": [
    "西城与昌平的均价差别"
   ]
  },
  {
   "cell_type": "code",
   "execution_count": null,
   "metadata": {
    "collapsed": false
   },
   "outputs": [
    {
     "name": "stdout",
     "output_type": "stream",
     "text": [
      "地区\t类型\t格局\t均总价\t均单价\n昌平\t不满五\t1室0厅\t129.94\t2.97\n昌平\t满五\t1室0厅\t154.95\t3.61\n昌平\t不满五\t1室1厅\t155.68\t2.77\n昌平\t满五\t1室1厅\t172.35\t3.01\n昌平\t不满五\t1室2厅\t159.0\t2.71\n昌平\t满五\t1室2厅\t190.29\t3.05\n昌平\t不满五\t2室0厅\t134.91\t2.69\n昌平\t满五\t2室0厅\t135.14\t2.52\n昌平\t不满五\t2室1厅\t175.4\t2.88\n昌平\t满五\t2室1厅\t168.43\t2.73\n昌平\t不满五\t2室2厅\t180.2\t3.52\n昌平\t满五\t2室2厅\t189.86\t2.82\n昌平\t不满五\t3室0厅\t84.5\t1.5\n昌平\t满五\t3室0厅\t134.5\t2.5\n昌平\t不满五\t3室1厅\t206.09\t3.49\n昌平\t满五\t3室1厅\t167.56\t2.55\n昌平\t不满五\t3室2厅\t117.33\t1.95\n昌平\t满五\t3室2厅\t83.5\t1.56\n西城\t不满五\t1室0厅\t173.61\t5.25\n西城\t满五\t1室0厅\t201.98\t5.61\n西城\t不满五\t1室1厅\t214.96\t5.28\n西城\t满五\t1室1厅\t255.37\t6.16\n西城\t不满五\t1室2厅\t156.8\t2.89\n西城\t满五\t1室2厅\t186.88\t3.59\n西城\t不满五\t2室0厅\t236.25\t5.92\n西城\t满五\t2室0厅\t285.6\t6.32\n西城\t不满五\t2室1厅\t215.75\t4.44\n西城\t满五\t2室1厅\t249.74\t5.1\n西城\t不满五\t2室2厅\t193.0\t4.86\n西城\t满五\t2室2厅\t266.0\t5.31\n西城\t不满五\t3室0厅\t189.0\t3.25\n西城\t满五\t3室0厅\t262.5\t4.76\n西城\t不满五\t3室1厅\t178.64\t3.22\n西城\t满五\t3室1厅\t190.15\t3.49\n"
     ]
    }
   ],
   "source": [
    "SQL = \"select region, five, struct, avg(totalPrice), avg(totalPrice/square)  \\\n",
    "      from ods_house_da where region = 'BJXC' or region ='BJCP' group by region,struct, five\"\n",
    "cursor.execute(SQL)\n",
    "results = cursor.fetchall()\n",
    "print \"地区\\t类型\\t格局\\t均总价\\t均单价\"\n",
    "for i in results:\n",
    "    if i[0] == 'BJCP':\n",
    "        print '昌平\\t',\n",
    "    else:\n",
    "        print '西城\\t',\n",
    "    if i[1] == 0:\n",
    "        print '不满五\\t',\n",
    "    else:\n",
    "        print '满五\\t',\n",
    "    print i[2] + '\\t' + str(round(i[3],2)) + '\\t' + str(round(i[4],2))"
   ]
  },
  {
   "cell_type": "code",
   "execution_count": null,
   "metadata": {},
   "outputs": [],
   "source": [
    "import pandas as pd\n",
    "SQL = \"select dealDate, region, avg(totalPrice), avg(totalPrice/square) from ods_house_da where region = 'BJXC' or region = 'BJCP' group by dealDate, region limit 10;\"\n",
    "cursor.execute(SQL);\n",
    "rows = cursor.fetchall()\n",
    "df = pd.DataFrame( [[ij for ij in i] for i in rows] )\n",
    "df.rename(columns={0: 'date', 1: 'region', 2: 'price', 3: 'pricePerA'}, inplace=True)\n",
    "print df\n"
   ]
  },
  {
   "cell_type": "code",
   "execution_count": null,
   "metadata": {},
   "outputs": [],
   "source": [
    "import pylab as pl\n",
    "x = range(10)\n",
    "y = [i*i for i in x]\n",
    "pl.plot(x, y)\n",
    "pl.show()"
   ]
  }
 ],
 "metadata": {
  "kernelspec": {
   "display_name": "Python 2",
   "language": "python",
   "name": "python2"
  },
  "language_info": {
   "codemirror_mode": {
    "name": "ipython",
    "version": 2.0
   },
   "file_extension": ".py",
   "mimetype": "text/x-python",
   "name": "python",
   "nbconvert_exporter": "python",
   "pygments_lexer": "ipython2",
   "version": "2.7.6"
  }
 },
 "nbformat": 4,
 "nbformat_minor": 0
}