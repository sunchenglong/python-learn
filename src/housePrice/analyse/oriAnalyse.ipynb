{
 "cells": [
  {
   "cell_type": "code",
   "execution_count": null,
   "metadata": {
    "collapsed": false,
    "deletable": true,
    "editable": true
   },
   "outputs": [
    {
     "name": "stdout",
     "output_type": "stream",
     "text": [
      "(('http://bj.lianjia.com/chengjiao/p1a1l1sf1lc1f1pg1',),)\n",
      "(('http://bj.lianjia.com/chengjiao/p1a1l1sf1lc1f1pg1',),)\n",
      "1\n"
     ]
    }
   ],
   "source": [
    "import MySQLdb\n",
    "db = MySQLdb.connect(\"localhost\", \"root\", \"root\", \"house\")\n",
    "db.set_character_set('utf8')\n",
    "cursor = db.cursor()\n",
    "sql = \"select link from link_list where status = 1 limit 1\"\n",
    "\n",
    "cursor.execute(sql)\n",
    "results = cursor.fetchall()\n",
    "print results\n",
    "def printa():\n",
    "    print 1\n",
    "print results\n",
    "printa()\n",
    "\n",
    "def readSql(sql):\n",
    "    cursor.execute(sql)\n",
    "    results = cursor.fetchall()\n",
    "    return results"
   ]
  },
  {
   "cell_type": "markdown",
   "metadata": {
    "deletable": true,
    "editable": true
   },
   "source": [
    "目前所有表:"
   ]
  },
  {
   "cell_type": "code",
   "execution_count": 13,
   "metadata": {
    "collapsed": false,
    "deletable": true,
    "editable": true
   },
   "outputs": [
    {
     "name": "stdout",
     "output_type": "stream",
     "text": [
      "link_list\n",
      "ods_house_da\n",
      "ods_house_new\n",
      "ori_house_da\n"
     ]
    }
   ],
   "source": [
    "sql = \"show tables\"\n",
    "for res in readSql(sql):\n",
    "    print res[0]"
   ]
  },
  {
   "cell_type": "code",
   "execution_count": 14,
   "metadata": {
    "collapsed": false,
    "deletable": true,
    "editable": true
   },
   "outputs": [
    {
     "name": "stdout",
     "output_type": "stream",
     "text": [
      "set(['BJCP', 'BJMT', 'BJHD', 'BJXW', 'BJCW', 'BJDC', 'BJCY', 'LFYJ', 'BJSJ', 'LFYj', 'lFYJ', 'BJFS', 'LFAC', 'BJXC', 'BJFT', 'BJYZ', 'BJSY', 'BJDX', 'BJTJ'])\n",
      "小区数量：4356\n",
      "北街家园六区\n",
      "威毕欧溪谷\n",
      "景馨园\n",
      "广安门外车站东街\n",
      "永居东里\n",
      "海户西里33号院\n",
      "宝盛里\n",
      "城市印象\n",
      "竹园\n",
      "玉泉路16号院\n",
      "Already reginonID handle: 99888\n",
      "Cannot reginonID handle: 19876\n"
     ]
    }
   ],
   "source": [
    "import re\n",
    "region_set = set()\n",
    "area_set = set()\n",
    "area_region_dict = {}\n",
    "sql = \"select href, title from ori_house_da limit 10000000\"\n",
    "p = re.compile('\\D+')\n",
    "countY = 0\n",
    "countN = 0\n",
    "for res in readSql(sql):\n",
    "    tmp = res[0].replace(\"http://bj.lianjia.com/chengjiao/\", \"\").replace(\".html\", \"\")\n",
    "    try:\n",
    "        region = p.match(tmp).group(0)\n",
    "        region_set.add(region)\n",
    "        countY += 1\n",
    "        area = res[1].split(\" \")[0]\n",
    "        area_set.add(area)\n",
    "        area_region_dict[area] = region\n",
    "    except:\n",
    "        #print res\n",
    "        countN += 1\n",
    "print region_set\n",
    "print \"小区数量：\" + str(len(area_set))\n",
    "cnt = 0\n",
    "for i in area_set:\n",
    "    if cnt < 10:\n",
    "        cnt += 1\n",
    "        print i\n",
    "print \"Already reginonID handle: \" + str(countY)\n",
    "print \"Cannot reginonID handle: \" + str(countN)"
   ]
  },
  {
   "cell_type": "code",
   "execution_count": 15,
   "metadata": {
    "collapsed": true,
    "deletable": true,
    "editable": true
   },
   "outputs": [],
   "source": [
    "if \"\" in area_region_dict:\n",
    "    print \"\",area_region_dict[\"\"]"
   ]
  },
  {
   "cell_type": "code",
   "execution_count": 16,
   "metadata": {
    "collapsed": false,
    "deletable": true,
    "editable": true
   },
   "outputs": [
    {
     "name": "stdout",
     "output_type": "stream",
     "text": [
      "select href, title, id, dealDate, totalPrice, dealHouseTxt from ori_house_da           where totalPrice != '' and dealDate != '' and title != ''\n",
      "-9222965325687740466 BJFT 太平桥西里 1室1厅 11 48.67 2015.09.27 ###房本满五年###距9号线六里桥东340米 1 1\n",
      "INSERT into ods_house_new(id, region, area, struct, room, square, dealDate               ,dealHouseTxt, five, subway, totalPrice) VALUES ('-9222965325687740466', 'BJFT', '太平桥西里', '1室1厅', '11',                '48.67', '2015.09.27', '###房本满五年###距9号线六里桥东340米', '1', '1' ,'154')\n",
      "-9222399307971189537 BJCY 和平街十五区1号院 1室1厅 11 47.08 2014.12.05 ###房本满五年###距13号线光熙门247米 1 1\n",
      "INSERT into ods_house_new(id, region, area, struct, room, square, dealDate               ,dealHouseTxt, five, subway, totalPrice) VALUES ('-9222399307971189537', 'BJCY', '和平街十五区1号院', '1室1厅', '11',                '47.08', '2014.12.05', '###房本满五年###距13号线光熙门247米', '1', '1' ,'206')\n",
      "-9221846324689872064 BJDC 绿景苑 2室1厅 21 60.93 2011.09.29 ###房本满五年###距7号线广渠门内707米 1 1\n",
      "INSERT into ods_house_new(id, region, area, struct, room, square, dealDate               ,dealHouseTxt, five, subway, totalPrice) VALUES ('-9221846324689872064', 'BJDC', '绿景苑', '2室1厅', '21',                '60.93', '2011.09.29', '###房本满五年###距7号线广渠门内707米', '1', '1' ,'190')\n",
      "-9221819175441338058 BJFT 西罗园南里 2室1厅 21 53.89 2015.06.17 ###房本满五年###距10号线角门东1000米 1 1\n",
      "INSERT into ods_house_new(id, region, area, struct, room, square, dealDate               ,dealHouseTxt, five, subway, totalPrice) VALUES ('-9221819175441338058', 'BJFT', '西罗园南里', '2室1厅', '21',                '53.89', '2015.06.17', '###房本满五年###距10号线角门东1000米', '1', '1' ,'145')\n",
      "-9221743634409902783 BJXC 椿树园 1室1厅 11 47.95 2014.10.16 ###房本满五年###距2号线宣武门621米 1 1\n",
      "INSERT into ods_house_new(id, region, area, struct, room, square, dealDate               ,dealHouseTxt, five, subway, totalPrice) VALUES ('-9221743634409902783', 'BJXC', '椿树园', '1室1厅', '11',                '47.95', '2014.10.16', '###房本满五年###距2号线宣武门621米', '1', '1' ,'299')\n",
      "-9221500882125994865 BJDX 枣园东里 2室1厅 21 68.15 2015.04.28 ###距4号线枣园139米 0 1\n",
      "INSERT into ods_house_new(id, region, area, struct, room, square, dealDate               ,dealHouseTxt, five, subway, totalPrice) VALUES ('-9221500882125994865', 'BJDX', '枣园东里', '2室1厅', '21',                '68.15', '2015.04.28', '###距4号线枣园139米', '0', '1' ,'100')\n",
      "-9221246173362038538 BJTJ 海棠湾一期 1室0厅 10 46.63 2013.07.21  0 0\n",
      "INSERT into ods_house_new(id, region, area, struct, room, square, dealDate               ,dealHouseTxt, five, subway, totalPrice) VALUES ('-9221246173362038538', 'BJTJ', '海棠湾一期', '1室0厅', '10',                '46.63', '2013.07.21', '', '0', '0' ,'118')\n",
      "-9220973230476105285 BJFT 太平桥西里 1室1厅 11 34.5 2016.01.10 ###房本满五年###距9号线六里桥东276米 1 1\n",
      "INSERT into ods_house_new(id, region, area, struct, room, square, dealDate               ,dealHouseTxt, five, subway, totalPrice) VALUES ('-9220973230476105285', 'BJFT', '太平桥西里', '1室1厅', '11',                '34.5', '2016.01.10', '###房本满五年###距9号线六里桥东276米', '1', '1' ,'138')\n",
      "-9220494310374460314 BJTJ 华业东方玫瑰 1室1厅 11 57.08 2013.09.10 ###距八通线临河里709米 0 0\n",
      "INSERT into ods_house_new(id, region, area, struct, room, square, dealDate               ,dealHouseTxt, five, subway, totalPrice) VALUES ('-9220494310374460314', 'BJTJ', '华业东方玫瑰', '1室1厅', '11',                '57.08', '2013.09.10', '###距八通线临河里709米', '0', '0' ,'135')\n",
      "Already reginonID handle: 96229\n",
      "Cannot reginonID handle: 1024\n"
     ]
    }
   ],
   "source": [
    "from random import randint\n",
    "import re\n",
    "sql = \"select href, title, id, dealDate, totalPrice, dealHouseTxt from ori_house_da \\\n",
    "          where totalPrice != '' and dealDate != '' and title != ''\"\n",
    "print sql\n",
    "p = re.compile('\\D+')\n",
    "countY = 0\n",
    "countN = 0\n",
    "for res in readSql(sql):\n",
    "    href = res[0]\n",
    "    tmp = href.replace(\"http://bj.lianjia.com/chengjiao/\", \"\").replace(\".html\", \"\")\n",
    "    title = res[1]\n",
    "    id = res[2]\n",
    "    dealDate = res[3]\n",
    "    totalPrice = res[4]\n",
    "    dealHouseTxt = res[5]\n",
    "    try:\n",
    "        countY += 1\n",
    "        area = title.split(\" \")[0]\n",
    "        struct = title.split(\" \")[1]\n",
    "        room = struct.replace(\"室\",\"\").replace(\"厅\",\"\")\n",
    "        square = title.split(\" \")[2].replace(\"平米\",\"\")\n",
    "        region = p.match(tmp).group(0)\n",
    "    except:\n",
    "        if area in area_region_dict.keys():\n",
    "            region = area_region_dict[area]\n",
    "            countY += 1\n",
    "        else:\n",
    "            countN += 1\n",
    "            continue\n",
    "    if len(dealDate.split('.')) == 2:\n",
    "        dealDate = dealDate + \".\" + str(randint(10,28))\n",
    "    five = 0\n",
    "    if \"满五年\" in dealHouseTxt:\n",
    "        five = 1\n",
    "    subway = 0\n",
    "    if \"号线\" in dealHouseTxt:\n",
    "        subway = 1\n",
    "    sql = \"INSERT into ods_house_new(id, region, area, struct, room, square, dealDate \\\n",
    "              ,dealHouseTxt, five, subway, totalPrice) VALUES ('%d', '%s', '%s', '%s', '%s',  \\\n",
    "              '%s', '%s', '%s', '%d', '%d' ,'%s')\" % (id, region, area, struct, room, square, \\\n",
    "                dealDate, dealHouseTxt, five, subway, totalPrice)\n",
    "    if countY < 10:\n",
    "        print id, region, area, struct, room, square, dealDate, dealHouseTxt, five, subway\n",
    "        print sql\n",
    "    cursor.execute(sql)\n",
    "db.commit()\n",
    "print \"Already reginonID handle: \" + str(countY)\n",
    "print \"Cannot reginonID handle: \" + str(countN)"
   ]
  },
  {
   "cell_type": "code",
   "execution_count": 10,
   "metadata": {
    "collapsed": false,
    "deletable": true,
    "editable": true
   },
   "outputs": [],
   "source": [
    "db.close()"
   ]
  },
  {
   "cell_type": "code",
   "execution_count": null,
   "metadata": {
    "collapsed": true
   },
   "outputs": [],
   "source": []
  },
  {
   "cell_type": "markdown",
   "metadata": {
    "deletable": true,
    "editable": true
   },
   "source": []
  },
  {
   "cell_type": "code",
   "execution_count": 7,
   "metadata": {
    "collapsed": true,
    "deletable": true,
    "editable": true
   },
   "outputs": [],
   "source": []
  },
  {
   "cell_type": "code",
   "execution_count": null,
   "metadata": {
    "collapsed": true,
    "deletable": true,
    "editable": true
   },
   "outputs": [],
   "source": []
  },
  {
   "cell_type": "code",
   "execution_count": null,
   "metadata": {
    "collapsed": true,
    "deletable": true,
    "editable": true
   },
   "outputs": [],
   "source": []
  },
  {
   "cell_type": "code",
   "execution_count": null,
   "metadata": {
    "collapsed": true,
    "deletable": true,
    "editable": true
   },
   "outputs": [],
   "source": []
  }
 ],
 "metadata": {
  "kernelspec": {
   "display_name": "Python 2",
   "language": "python",
   "name": "python2"
  },
  "language_info": {
   "codemirror_mode": {
    "name": "ipython",
    "version": 2
   },
   "file_extension": ".py",
   "mimetype": "text/x-python",
   "name": "python",
   "nbconvert_exporter": "python",
   "pygments_lexer": "ipython2",
   "version": "2.7.12"
  }
 },
 "nbformat": 4,
 "nbformat_minor": 0
}
